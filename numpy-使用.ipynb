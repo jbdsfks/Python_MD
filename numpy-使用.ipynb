{
 "cells": [
  {
   "cell_type": "code",
   "execution_count": 1,
   "metadata": {},
   "outputs": [],
   "source": [
    "import numpy as np"
   ]
  },
  {
   "cell_type": "markdown",
   "metadata": {},
   "source": [
    "#### 3. 通过列表创建一维数组\n",
    "注意：`numpy.array` 和 Python 标准库 `array.array` 并不相同，前者更为强大，这也就是我们学习 Numpy 的重要原因之一。"
   ]
  },
  {
   "cell_type": "code",
   "execution_count": 2,
   "metadata": {},
   "outputs": [
    {
     "data": {
      "text/plain": [
       "array([1, 2, 3])"
      ]
     },
     "execution_count": 2,
     "metadata": {},
     "output_type": "execute_result"
    }
   ],
   "source": [
    "np.array([1,2,3])"
   ]
  },
  {
   "cell_type": "markdown",
   "metadata": {},
   "source": [
    "#### 4. 通过列表创建二维数组"
   ]
  },
  {
   "cell_type": "code",
   "execution_count": 3,
   "metadata": {},
   "outputs": [
    {
     "data": {
      "text/plain": [
       "array([[1, 2, 3],\n",
       "       [4, 5, 6]])"
      ]
     },
     "execution_count": 3,
     "metadata": {},
     "output_type": "execute_result"
    }
   ],
   "source": [
    "np.array([(1,2,3),(4,5,6)])"
   ]
  },
  {
   "cell_type": "markdown",
   "metadata": {},
   "source": [
    "#### 5. 创建全为 0 的二维数组"
   ]
  },
  {
   "cell_type": "code",
   "execution_count": 4,
   "metadata": {},
   "outputs": [
    {
     "data": {
      "text/plain": [
       "array([[ 0.,  0.,  0.],\n",
       "       [ 0.,  0.,  0.],\n",
       "       [ 0.,  0.,  0.]])"
      ]
     },
     "execution_count": 4,
     "metadata": {},
     "output_type": "execute_result"
    }
   ],
   "source": [
    "np.zeros((3,3))"
   ]
  },
  {
   "cell_type": "markdown",
   "metadata": {},
   "source": [
    "#### 6. 创建全为 1 的三维数组"
   ]
  },
  {
   "cell_type": "code",
   "execution_count": 5,
   "metadata": {},
   "outputs": [
    {
     "data": {
      "text/plain": [
       "array([[[ 1.,  1.,  1.,  1.],\n",
       "        [ 1.,  1.,  1.,  1.],\n",
       "        [ 1.,  1.,  1.,  1.]],\n",
       "\n",
       "       [[ 1.,  1.,  1.,  1.],\n",
       "        [ 1.,  1.,  1.,  1.],\n",
       "        [ 1.,  1.,  1.,  1.]]])"
      ]
     },
     "execution_count": 5,
     "metadata": {},
     "output_type": "execute_result"
    }
   ],
   "source": [
    "np.ones((2,3,4))"
   ]
  },
  {
   "cell_type": "markdown",
   "metadata": {},
   "source": [
    "注意：务必想清楚上面 4 个数组的维度关系"
   ]
  },
  {
   "cell_type": "markdown",
   "metadata": {},
   "source": [
    "#### 7. 创建一维等差数组"
   ]
  },
  {
   "cell_type": "code",
   "execution_count": 6,
   "metadata": {
    "scrolled": true
   },
   "outputs": [
    {
     "data": {
      "text/plain": [
       "array([0, 1, 2, 3, 4])"
      ]
     },
     "execution_count": 6,
     "metadata": {},
     "output_type": "execute_result"
    }
   ],
   "source": [
    "np.arange(5)"
   ]
  },
  {
   "cell_type": "markdown",
   "metadata": {},
   "source": [
    "#### 8. 创建二维等差数组"
   ]
  },
  {
   "cell_type": "code",
   "execution_count": 7,
   "metadata": {
    "scrolled": true
   },
   "outputs": [
    {
     "data": {
      "text/plain": [
       "array([[0, 1, 2],\n",
       "       [3, 4, 5]])"
      ]
     },
     "execution_count": 7,
     "metadata": {},
     "output_type": "execute_result"
    }
   ],
   "source": [
    "np.arange(6).reshape(2,3)"
   ]
  },
  {
   "cell_type": "markdown",
   "metadata": {},
   "source": [
    "#### 9. 创建单位矩阵（二维数组）"
   ]
  },
  {
   "cell_type": "code",
   "execution_count": 8,
   "metadata": {
    "scrolled": true
   },
   "outputs": [
    {
     "data": {
      "text/plain": [
       "array([[ 1.,  0.,  0.],\n",
       "       [ 0.,  1.,  0.],\n",
       "       [ 0.,  0.,  1.]])"
      ]
     },
     "execution_count": 8,
     "metadata": {},
     "output_type": "execute_result"
    }
   ],
   "source": [
    "np.eye(3)"
   ]
  },
  {
   "cell_type": "markdown",
   "metadata": {},
   "source": [
    "#### 10. 创建等间隔一维数组"
   ]
  },
  {
   "cell_type": "code",
   "execution_count": 9,
   "metadata": {},
   "outputs": [
    {
     "data": {
      "text/plain": [
       "array([  1. ,   2.8,   4.6,   6.4,   8.2,  10. ])"
      ]
     },
     "execution_count": 9,
     "metadata": {},
     "output_type": "execute_result"
    }
   ],
   "source": [
    "np.linspace(1, 10, num=6)"
   ]
  },
  {
   "cell_type": "markdown",
   "metadata": {},
   "source": [
    "#### 11. 创建二维随机数组"
   ]
  },
  {
   "cell_type": "code",
   "execution_count": 10,
   "metadata": {
    "scrolled": true
   },
   "outputs": [
    {
     "data": {
      "text/plain": [
       "array([[ 0.54435261,  0.90465904,  0.34158212],\n",
       "       [ 0.50667597,  0.58136799,  0.49117876]])"
      ]
     },
     "execution_count": 10,
     "metadata": {},
     "output_type": "execute_result"
    }
   ],
   "source": [
    "np.random.rand(2,3)"
   ]
  },
  {
   "cell_type": "markdown",
   "metadata": {},
   "source": [
    "#### 12. 创建二维随机整数数组（数值小于 5）"
   ]
  },
  {
   "cell_type": "code",
   "execution_count": 11,
   "metadata": {
    "scrolled": true
   },
   "outputs": [
    {
     "data": {
      "text/plain": [
       "array([[3, 1, 0],\n",
       "       [0, 2, 3]])"
      ]
     },
     "execution_count": 11,
     "metadata": {},
     "output_type": "execute_result"
    }
   ],
   "source": [
    "np.random.randint(5, size=(2,3))"
   ]
  },
  {
   "cell_type": "markdown",
   "metadata": {},
   "source": [
    "#### 13. 依据自定义函数创建数组"
   ]
  },
  {
   "cell_type": "code",
   "execution_count": 12,
   "metadata": {},
   "outputs": [
    {
     "data": {
      "text/plain": [
       "array([[ 0.,  1.,  2.],\n",
       "       [ 1.,  2.,  3.],\n",
       "       [ 2.,  3.,  4.]])"
      ]
     },
     "execution_count": 12,
     "metadata": {},
     "output_type": "execute_result"
    }
   ],
   "source": [
    "np.fromfunction(lambda i, j: i + j, (3, 3))"
   ]
  },
  {
   "cell_type": "markdown",
   "metadata": {},
   "source": [
    "### 数组运算"
   ]
  },
  {
   "cell_type": "markdown",
   "metadata": {},
   "source": [
    "#### 生成一维示例数组"
   ]
  },
  {
   "cell_type": "code",
   "execution_count": 13,
   "metadata": {},
   "outputs": [
    {
     "data": {
      "text/plain": [
       "(array([10, 20, 30, 40, 50]), array([1, 2, 3, 4, 5]))"
      ]
     },
     "execution_count": 13,
     "metadata": {},
     "output_type": "execute_result"
    }
   ],
   "source": [
    "a = np.array([10,20,30,40,50])\n",
    "b = np.arange(1,6)\n",
    "a,b"
   ]
  },
  {
   "cell_type": "markdown",
   "metadata": {},
   "source": [
    "#### 14. 一维数组加法运算"
   ]
  },
  {
   "cell_type": "code",
   "execution_count": 14,
   "metadata": {
    "scrolled": true
   },
   "outputs": [
    {
     "data": {
      "text/plain": [
       "array([11, 22, 33, 44, 55])"
      ]
     },
     "execution_count": 14,
     "metadata": {},
     "output_type": "execute_result"
    }
   ],
   "source": [
    "a + b"
   ]
  },
  {
   "cell_type": "markdown",
   "metadata": {},
   "source": [
    "#### 15. 一维数组减法运算"
   ]
  },
  {
   "cell_type": "code",
   "execution_count": 15,
   "metadata": {},
   "outputs": [
    {
     "data": {
      "text/plain": [
       "array([ 9, 18, 27, 36, 45])"
      ]
     },
     "execution_count": 15,
     "metadata": {},
     "output_type": "execute_result"
    }
   ],
   "source": [
    "a - b"
   ]
  },
  {
   "cell_type": "markdown",
   "metadata": {},
   "source": [
    "#### 16. 一维数组乘法运算"
   ]
  },
  {
   "cell_type": "code",
   "execution_count": 16,
   "metadata": {},
   "outputs": [
    {
     "data": {
      "text/plain": [
       "array([ 10,  40,  90, 160, 250])"
      ]
     },
     "execution_count": 16,
     "metadata": {},
     "output_type": "execute_result"
    }
   ],
   "source": [
    "a * b"
   ]
  },
  {
   "cell_type": "markdown",
   "metadata": {},
   "source": [
    "#### 17. 一维数组除法运算"
   ]
  },
  {
   "cell_type": "code",
   "execution_count": 17,
   "metadata": {
    "scrolled": false
   },
   "outputs": [
    {
     "data": {
      "text/plain": [
       "array([ 10.,  10.,  10.,  10.,  10.])"
      ]
     },
     "execution_count": 17,
     "metadata": {},
     "output_type": "execute_result"
    }
   ],
   "source": [
    "a / b"
   ]
  },
  {
   "cell_type": "markdown",
   "metadata": {},
   "source": [
    "#### 生成二维示例数组（可以看作矩阵）"
   ]
  },
  {
   "cell_type": "code",
   "execution_count": 18,
   "metadata": {},
   "outputs": [
    {
     "data": {
      "text/plain": [
       "(array([[1, 2],\n",
       "        [3, 4]]), array([[5, 6],\n",
       "        [7, 8]]))"
      ]
     },
     "execution_count": 18,
     "metadata": {},
     "output_type": "execute_result"
    }
   ],
   "source": [
    "A = np.array([[1,2],\n",
    "           [3,4]])\n",
    "B = np.array([[5,6],\n",
    "           [7,8]])\n",
    "A, B"
   ]
  },
  {
   "cell_type": "markdown",
   "metadata": {},
   "source": [
    "#### 18. 矩阵加法运算"
   ]
  },
  {
   "cell_type": "code",
   "execution_count": 19,
   "metadata": {
    "scrolled": true
   },
   "outputs": [
    {
     "data": {
      "text/plain": [
       "array([[ 6,  8],\n",
       "       [10, 12]])"
      ]
     },
     "execution_count": 19,
     "metadata": {},
     "output_type": "execute_result"
    }
   ],
   "source": [
    "A + B"
   ]
  },
  {
   "cell_type": "markdown",
   "metadata": {},
   "source": [
    "#### 19. 矩阵减法运算"
   ]
  },
  {
   "cell_type": "code",
   "execution_count": 20,
   "metadata": {
    "scrolled": true
   },
   "outputs": [
    {
     "data": {
      "text/plain": [
       "array([[-4, -4],\n",
       "       [-4, -4]])"
      ]
     },
     "execution_count": 20,
     "metadata": {},
     "output_type": "execute_result"
    }
   ],
   "source": [
    "A - B"
   ]
  },
  {
   "cell_type": "markdown",
   "metadata": {},
   "source": [
    "#### 20. 矩阵元素间乘法运算"
   ]
  },
  {
   "cell_type": "code",
   "execution_count": 21,
   "metadata": {
    "scrolled": true
   },
   "outputs": [
    {
     "data": {
      "text/plain": [
       "array([[ 5, 12],\n",
       "       [21, 32]])"
      ]
     },
     "execution_count": 21,
     "metadata": {},
     "output_type": "execute_result"
    }
   ],
   "source": [
    "A * B"
   ]
  },
  {
   "cell_type": "markdown",
   "metadata": {},
   "source": [
    "#### 21. 矩阵乘法运算（注意与上题的区别）"
   ]
  },
  {
   "cell_type": "code",
   "execution_count": 22,
   "metadata": {},
   "outputs": [
    {
     "data": {
      "text/plain": [
       "array([[19, 22],\n",
       "       [43, 50]])"
      ]
     },
     "execution_count": 22,
     "metadata": {},
     "output_type": "execute_result"
    }
   ],
   "source": [
    "np.dot(A, B)"
   ]
  },
  {
   "cell_type": "markdown",
   "metadata": {},
   "source": [
    "<div style=\"color: #999;font-size: 12px;font-style: italic;\">*如果不了解矩阵乘法运算，<a href=\"https://baike.baidu.com/item/%E7%9F%A9%E9%98%B5%E4%B9%98%E6%B3%95\">点击此链接</a>学习。</div>"
   ]
  },
  {
   "cell_type": "code",
   "execution_count": 23,
   "metadata": {},
   "outputs": [
    {
     "data": {
      "text/plain": [
       "matrix([[19, 22],\n",
       "        [43, 50]])"
      ]
     },
     "execution_count": 23,
     "metadata": {},
     "output_type": "execute_result"
    }
   ],
   "source": [
    "# 如果使用 np.mat 将二维数组准确定义为矩阵，就可以直接使用 * 完成矩阵乘法计算\n",
    "np.mat(A) * np.mat(B)"
   ]
  },
  {
   "cell_type": "markdown",
   "metadata": {},
   "source": [
    "#### 22. 数乘矩阵"
   ]
  },
  {
   "cell_type": "code",
   "execution_count": 24,
   "metadata": {},
   "outputs": [
    {
     "data": {
      "text/plain": [
       "array([[2, 4],\n",
       "       [6, 8]])"
      ]
     },
     "execution_count": 24,
     "metadata": {},
     "output_type": "execute_result"
    }
   ],
   "source": [
    "2 * A"
   ]
  },
  {
   "cell_type": "markdown",
   "metadata": {},
   "source": [
    "#### 23. 矩阵的转置"
   ]
  },
  {
   "cell_type": "code",
   "execution_count": 25,
   "metadata": {},
   "outputs": [
    {
     "data": {
      "text/plain": [
       "array([[1, 3],\n",
       "       [2, 4]])"
      ]
     },
     "execution_count": 25,
     "metadata": {},
     "output_type": "execute_result"
    }
   ],
   "source": [
    "A.T"
   ]
  },
  {
   "cell_type": "markdown",
   "metadata": {},
   "source": [
    "#### 24. 矩阵求逆"
   ]
  },
  {
   "cell_type": "code",
   "execution_count": 26,
   "metadata": {},
   "outputs": [
    {
     "data": {
      "text/plain": [
       "array([[-2. ,  1. ],\n",
       "       [ 1.5, -0.5]])"
      ]
     },
     "execution_count": 26,
     "metadata": {},
     "output_type": "execute_result"
    }
   ],
   "source": [
    "np.linalg.inv(A)"
   ]
  },
  {
   "cell_type": "markdown",
   "metadata": {},
   "source": [
    "### 数学函数"
   ]
  },
  {
   "cell_type": "markdown",
   "metadata": {},
   "source": [
    "#### 25. 三角函数"
   ]
  },
  {
   "cell_type": "code",
   "execution_count": 27,
   "metadata": {},
   "outputs": [
    {
     "name": "stdout",
     "output_type": "stream",
     "text": [
      "[10 20 30 40 50]\n"
     ]
    },
    {
     "data": {
      "text/plain": [
       "array([-0.54402111,  0.91294525, -0.98803162,  0.74511316, -0.26237485])"
      ]
     },
     "execution_count": 27,
     "metadata": {},
     "output_type": "execute_result"
    }
   ],
   "source": [
    "print(a)\n",
    "\n",
    "np.sin(a)"
   ]
  },
  {
   "cell_type": "markdown",
   "metadata": {},
   "source": [
    "#### 26. 以自然对数函数为底数的指数函数"
   ]
  },
  {
   "cell_type": "code",
   "execution_count": 28,
   "metadata": {},
   "outputs": [
    {
     "data": {
      "text/plain": [
       "array([  2.20264658e+04,   4.85165195e+08,   1.06864746e+13,\n",
       "         2.35385267e+17,   5.18470553e+21])"
      ]
     },
     "execution_count": 28,
     "metadata": {},
     "output_type": "execute_result"
    }
   ],
   "source": [
    "np.exp(a)"
   ]
  },
  {
   "cell_type": "markdown",
   "metadata": {},
   "source": [
    "#### 27. 数组的方根的运算（开平方）"
   ]
  },
  {
   "cell_type": "code",
   "execution_count": 29,
   "metadata": {
    "scrolled": true
   },
   "outputs": [
    {
     "data": {
      "text/plain": [
       "array([ 3.16227766,  4.47213595,  5.47722558,  6.32455532,  7.07106781])"
      ]
     },
     "execution_count": 29,
     "metadata": {},
     "output_type": "execute_result"
    }
   ],
   "source": [
    "np.sqrt(a)"
   ]
  },
  {
   "cell_type": "markdown",
   "metadata": {},
   "source": [
    "#### 28. 数组的方根的运算（立方）"
   ]
  },
  {
   "cell_type": "code",
   "execution_count": 30,
   "metadata": {
    "scrolled": true
   },
   "outputs": [
    {
     "data": {
      "text/plain": [
       "array([  1000,   8000,  27000,  64000, 125000])"
      ]
     },
     "execution_count": 30,
     "metadata": {},
     "output_type": "execute_result"
    }
   ],
   "source": [
    "np.power(a, 3)"
   ]
  },
  {
   "cell_type": "markdown",
   "metadata": {},
   "source": [
    "### 数组切片和索引"
   ]
  },
  {
   "cell_type": "markdown",
   "metadata": {},
   "source": [
    "#### 29. 一维数组索引"
   ]
  },
  {
   "cell_type": "code",
   "execution_count": 31,
   "metadata": {},
   "outputs": [
    {
     "data": {
      "text/plain": [
       "(1, 5)"
      ]
     },
     "execution_count": 31,
     "metadata": {},
     "output_type": "execute_result"
    }
   ],
   "source": [
    "a = np.array([1, 2, 3, 4, 5])\n",
    "a[0], a[-1]"
   ]
  },
  {
   "cell_type": "markdown",
   "metadata": {},
   "source": [
    "#### 30. 一维数组切片"
   ]
  },
  {
   "cell_type": "code",
   "execution_count": 32,
   "metadata": {
    "scrolled": true
   },
   "outputs": [
    {
     "data": {
      "text/plain": [
       "(array([1, 2]), array([1, 2, 3, 4]))"
      ]
     },
     "execution_count": 32,
     "metadata": {},
     "output_type": "execute_result"
    }
   ],
   "source": [
    "a[0:2], a[:-1]"
   ]
  },
  {
   "cell_type": "markdown",
   "metadata": {},
   "source": [
    "#### 31. 二维数组索引"
   ]
  },
  {
   "cell_type": "code",
   "execution_count": 33,
   "metadata": {
    "scrolled": false
   },
   "outputs": [
    {
     "data": {
      "text/plain": [
       "(array([1, 2, 3]), array([7, 8, 9]))"
      ]
     },
     "execution_count": 33,
     "metadata": {},
     "output_type": "execute_result"
    }
   ],
   "source": [
    "a = np.array([(1,2,3),(4,5,6),(7,8,9)])\n",
    "a[0], a[-1]"
   ]
  },
  {
   "cell_type": "markdown",
   "metadata": {},
   "source": [
    "#### 32. 二维数组切片（取第 2 列）"
   ]
  },
  {
   "cell_type": "code",
   "execution_count": 34,
   "metadata": {
    "scrolled": true
   },
   "outputs": [
    {
     "name": "stdout",
     "output_type": "stream",
     "text": [
      "[[1 2 3]\n",
      " [4 5 6]\n",
      " [7 8 9]]\n"
     ]
    },
    {
     "data": {
      "text/plain": [
       "array([2, 5, 8])"
      ]
     },
     "execution_count": 34,
     "metadata": {},
     "output_type": "execute_result"
    }
   ],
   "source": [
    "print(a)\n",
    "\n",
    "a[:, 1]"
   ]
  },
  {
   "cell_type": "markdown",
   "metadata": {},
   "source": [
    "#### 33. 二维数组切片（取第 2，3 行）"
   ]
  },
  {
   "cell_type": "code",
   "execution_count": 35,
   "metadata": {
    "scrolled": true
   },
   "outputs": [
    {
     "data": {
      "text/plain": [
       "array([[4, 5, 6],\n",
       "       [7, 8, 9]])"
      ]
     },
     "execution_count": 35,
     "metadata": {},
     "output_type": "execute_result"
    }
   ],
   "source": [
    "a[1:3, :]"
   ]
  },
  {
   "cell_type": "markdown",
   "metadata": {},
   "source": [
    "### 数组形状操作"
   ]
  },
  {
   "cell_type": "markdown",
   "metadata": {},
   "source": [
    "#### 生成一维示例数组"
   ]
  },
  {
   "cell_type": "code",
   "execution_count": 36,
   "metadata": {
    "scrolled": true
   },
   "outputs": [
    {
     "data": {
      "text/plain": [
       "array([[ 0.99735035,  0.03171799],\n",
       "       [ 0.52368929,  0.85744078],\n",
       "       [ 0.84324839,  0.10012185]])"
      ]
     },
     "execution_count": 36,
     "metadata": {},
     "output_type": "execute_result"
    }
   ],
   "source": [
    "a = np.random.random((3, 2))\n",
    "a"
   ]
  },
  {
   "cell_type": "markdown",
   "metadata": {},
   "source": [
    "#### 34. 查看数组形状"
   ]
  },
  {
   "cell_type": "code",
   "execution_count": 37,
   "metadata": {
    "scrolled": true
   },
   "outputs": [
    {
     "data": {
      "text/plain": [
       "(3, 2)"
      ]
     },
     "execution_count": 37,
     "metadata": {},
     "output_type": "execute_result"
    }
   ],
   "source": [
    "a.shape"
   ]
  },
  {
   "cell_type": "markdown",
   "metadata": {},
   "source": [
    "#### 35. 更改数组形状（不改变原始数组）"
   ]
  },
  {
   "cell_type": "code",
   "execution_count": 38,
   "metadata": {},
   "outputs": [
    {
     "data": {
      "text/plain": [
       "array([[ 0.99735035,  0.03171799,  0.52368929],\n",
       "       [ 0.85744078,  0.84324839,  0.10012185]])"
      ]
     },
     "execution_count": 38,
     "metadata": {},
     "output_type": "execute_result"
    }
   ],
   "source": [
    "# reshape 并不改变原始数组\n",
    "a.reshape(2, 3)"
   ]
  },
  {
   "cell_type": "code",
   "execution_count": 39,
   "metadata": {
    "scrolled": true
   },
   "outputs": [
    {
     "data": {
      "text/plain": [
       "array([[ 0.99735035,  0.03171799],\n",
       "       [ 0.52368929,  0.85744078],\n",
       "       [ 0.84324839,  0.10012185]])"
      ]
     },
     "execution_count": 39,
     "metadata": {},
     "output_type": "execute_result"
    }
   ],
   "source": [
    "a"
   ]
  },
  {
   "cell_type": "markdown",
   "metadata": {},
   "source": [
    "#### 36. 更改数组形状（改变原始数组）"
   ]
  },
  {
   "cell_type": "code",
   "execution_count": 40,
   "metadata": {},
   "outputs": [],
   "source": [
    "# resize 会改变原始数组\n",
    "a.resize(2, 3) "
   ]
  },
  {
   "cell_type": "code",
   "execution_count": 41,
   "metadata": {
    "scrolled": true
   },
   "outputs": [
    {
     "data": {
      "text/plain": [
       "array([[ 0.99735035,  0.03171799,  0.52368929],\n",
       "       [ 0.85744078,  0.84324839,  0.10012185]])"
      ]
     },
     "execution_count": 41,
     "metadata": {},
     "output_type": "execute_result"
    }
   ],
   "source": [
    "a"
   ]
  },
  {
   "cell_type": "markdown",
   "metadata": {},
   "source": [
    "#### 37. 展平数组"
   ]
  },
  {
   "cell_type": "code",
   "execution_count": 42,
   "metadata": {},
   "outputs": [
    {
     "data": {
      "text/plain": [
       "array([ 0.99735035,  0.03171799,  0.52368929,  0.85744078,  0.84324839,\n",
       "        0.10012185])"
      ]
     },
     "execution_count": 42,
     "metadata": {},
     "output_type": "execute_result"
    }
   ],
   "source": [
    "a.ravel()"
   ]
  },
  {
   "cell_type": "markdown",
   "metadata": {},
   "source": [
    "#### 38. 垂直拼合数组"
   ]
  },
  {
   "cell_type": "code",
   "execution_count": 43,
   "metadata": {
    "scrolled": true
   },
   "outputs": [
    {
     "data": {
      "text/plain": [
       "(array([[8, 8, 3],\n",
       "        [4, 1, 3],\n",
       "        [4, 7, 1]]), array([[3, 6, 0],\n",
       "        [1, 8, 2],\n",
       "        [8, 6, 2]]))"
      ]
     },
     "execution_count": 43,
     "metadata": {},
     "output_type": "execute_result"
    }
   ],
   "source": [
    "# 生成示例数组\n",
    "a = np.random.randint(10, size=(3, 3))\n",
    "b = np.random.randint(10, size=(3, 3))\n",
    "\n",
    "a, b"
   ]
  },
  {
   "cell_type": "code",
   "execution_count": 44,
   "metadata": {},
   "outputs": [
    {
     "data": {
      "text/plain": [
       "array([[8, 8, 3],\n",
       "       [4, 1, 3],\n",
       "       [4, 7, 1],\n",
       "       [3, 6, 0],\n",
       "       [1, 8, 2],\n",
       "       [8, 6, 2]])"
      ]
     },
     "execution_count": 44,
     "metadata": {},
     "output_type": "execute_result"
    }
   ],
   "source": [
    "np.vstack((a, b))"
   ]
  },
  {
   "cell_type": "markdown",
   "metadata": {},
   "source": [
    "#### 39. 水平拼合数组"
   ]
  },
  {
   "cell_type": "code",
   "execution_count": 45,
   "metadata": {
    "scrolled": true
   },
   "outputs": [
    {
     "data": {
      "text/plain": [
       "array([[8, 8, 3, 3, 6, 0],\n",
       "       [4, 1, 3, 1, 8, 2],\n",
       "       [4, 7, 1, 8, 6, 2]])"
      ]
     },
     "execution_count": 45,
     "metadata": {},
     "output_type": "execute_result"
    }
   ],
   "source": [
    "np.hstack((a, b))"
   ]
  },
  {
   "cell_type": "markdown",
   "metadata": {},
   "source": [
    "#### 40. 沿横轴分割数组"
   ]
  },
  {
   "cell_type": "code",
   "execution_count": 46,
   "metadata": {
    "scrolled": true
   },
   "outputs": [
    {
     "data": {
      "text/plain": [
       "[array([[8],\n",
       "        [4],\n",
       "        [4]]), array([[8],\n",
       "        [1],\n",
       "        [7]]), array([[3],\n",
       "        [3],\n",
       "        [1]])]"
      ]
     },
     "execution_count": 46,
     "metadata": {},
     "output_type": "execute_result"
    }
   ],
   "source": [
    "np.hsplit(a, 3)"
   ]
  },
  {
   "cell_type": "markdown",
   "metadata": {},
   "source": [
    "#### 41. 沿纵轴分割数组"
   ]
  },
  {
   "cell_type": "code",
   "execution_count": 47,
   "metadata": {
    "scrolled": true
   },
   "outputs": [
    {
     "data": {
      "text/plain": [
       "[array([[8, 8, 3]]), array([[4, 1, 3]]), array([[4, 7, 1]])]"
      ]
     },
     "execution_count": 47,
     "metadata": {},
     "output_type": "execute_result"
    }
   ],
   "source": [
    "np.vsplit(a, 3)"
   ]
  },
  {
   "cell_type": "markdown",
   "metadata": {},
   "source": [
    "### 数组排序"
   ]
  },
  {
   "cell_type": "code",
   "execution_count": 48,
   "metadata": {
    "scrolled": true
   },
   "outputs": [
    {
     "data": {
      "text/plain": [
       "array([[1, 4, 3],\n",
       "       [6, 2, 9],\n",
       "       [4, 7, 2]])"
      ]
     },
     "execution_count": 48,
     "metadata": {},
     "output_type": "execute_result"
    }
   ],
   "source": [
    "# 生成示例数组\n",
    "a = np.array(([1,4,3],[6,2,9],[4,7,2]))\n",
    "a"
   ]
  },
  {
   "cell_type": "markdown",
   "metadata": {},
   "source": [
    "#### 42. 返回每列最大值"
   ]
  },
  {
   "cell_type": "code",
   "execution_count": 49,
   "metadata": {},
   "outputs": [
    {
     "data": {
      "text/plain": [
       "array([6, 7, 9])"
      ]
     },
     "execution_count": 49,
     "metadata": {},
     "output_type": "execute_result"
    }
   ],
   "source": [
    "np.max(a, axis=0)"
   ]
  },
  {
   "cell_type": "markdown",
   "metadata": {},
   "source": [
    "#### 43. 返回每行最小值"
   ]
  },
  {
   "cell_type": "code",
   "execution_count": 50,
   "metadata": {
    "scrolled": true
   },
   "outputs": [
    {
     "data": {
      "text/plain": [
       "array([1, 2, 2])"
      ]
     },
     "execution_count": 50,
     "metadata": {},
     "output_type": "execute_result"
    }
   ],
   "source": [
    "np.min(a, axis=1)"
   ]
  },
  {
   "cell_type": "markdown",
   "metadata": {},
   "source": [
    "#### 44. 返回每列最大值索引"
   ]
  },
  {
   "cell_type": "code",
   "execution_count": 51,
   "metadata": {
    "scrolled": true
   },
   "outputs": [
    {
     "data": {
      "text/plain": [
       "array([1, 2, 1])"
      ]
     },
     "execution_count": 51,
     "metadata": {},
     "output_type": "execute_result"
    }
   ],
   "source": [
    "np.argmax(a, axis=0)"
   ]
  },
  {
   "cell_type": "markdown",
   "metadata": {},
   "source": [
    "#### 45. 返回每行最小值索引"
   ]
  },
  {
   "cell_type": "code",
   "execution_count": 52,
   "metadata": {},
   "outputs": [
    {
     "data": {
      "text/plain": [
       "array([0, 1, 2])"
      ]
     },
     "execution_count": 52,
     "metadata": {},
     "output_type": "execute_result"
    }
   ],
   "source": [
    "np.argmin(a, axis=1)"
   ]
  },
  {
   "cell_type": "markdown",
   "metadata": {},
   "source": [
    "### 数组统计"
   ]
  },
  {
   "cell_type": "markdown",
   "metadata": {},
   "source": [
    "#### 46. 统计数组各列的中位数"
   ]
  },
  {
   "cell_type": "code",
   "execution_count": 53,
   "metadata": {
    "scrolled": true
   },
   "outputs": [
    {
     "data": {
      "text/plain": [
       "array([ 4.,  4.,  3.])"
      ]
     },
     "execution_count": 53,
     "metadata": {},
     "output_type": "execute_result"
    }
   ],
   "source": [
    "# 继续使用上面的 a 数组\n",
    "np.median(a, axis=0)"
   ]
  },
  {
   "cell_type": "markdown",
   "metadata": {},
   "source": [
    "#### 47. 统计数组各行的算术平均值"
   ]
  },
  {
   "cell_type": "code",
   "execution_count": 54,
   "metadata": {},
   "outputs": [
    {
     "data": {
      "text/plain": [
       "array([ 2.66666667,  5.66666667,  4.33333333])"
      ]
     },
     "execution_count": 54,
     "metadata": {},
     "output_type": "execute_result"
    }
   ],
   "source": [
    "np.mean(a, axis=1)"
   ]
  },
  {
   "cell_type": "markdown",
   "metadata": {},
   "source": [
    "#### 48. 统计数组各列的加权平均值"
   ]
  },
  {
   "cell_type": "code",
   "execution_count": 55,
   "metadata": {},
   "outputs": [
    {
     "data": {
      "text/plain": [
       "array([ 3.66666667,  4.33333333,  4.66666667])"
      ]
     },
     "execution_count": 55,
     "metadata": {},
     "output_type": "execute_result"
    }
   ],
   "source": [
    "np.average(a, axis=0)"
   ]
  },
  {
   "cell_type": "markdown",
   "metadata": {},
   "source": [
    "#### 49. 统计数组各行的方差"
   ]
  },
  {
   "cell_type": "code",
   "execution_count": 56,
   "metadata": {
    "scrolled": true
   },
   "outputs": [
    {
     "data": {
      "text/plain": [
       "array([ 1.55555556,  8.22222222,  4.22222222])"
      ]
     },
     "execution_count": 56,
     "metadata": {},
     "output_type": "execute_result"
    }
   ],
   "source": [
    "np.var(a, axis=1)"
   ]
  },
  {
   "cell_type": "markdown",
   "metadata": {},
   "source": [
    "#### 50. 统计数组各列的标准偏差"
   ]
  },
  {
   "cell_type": "code",
   "execution_count": 57,
   "metadata": {},
   "outputs": [
    {
     "data": {
      "text/plain": [
       "array([ 2.05480467,  2.05480467,  3.09120617])"
      ]
     },
     "execution_count": 57,
     "metadata": {},
     "output_type": "execute_result"
    }
   ],
   "source": [
    "np.std(a, axis=0)"
   ]
  },
  {
   "cell_type": "markdown",
   "metadata": {},
   "source": [
    "---\n",
    "##  <a id = \"2\">2. 进阶部分[选学]</a>"
   ]
  },
  {
   "cell_type": "markdown",
   "metadata": {},
   "source": [
    "#### 51. 创建一个 5x5 的二维数组，其中边界值为1，其余值为0"
   ]
  },
  {
   "cell_type": "code",
   "execution_count": 58,
   "metadata": {},
   "outputs": [
    {
     "data": {
      "text/plain": [
       "array([[ 1.,  1.,  1.,  1.,  1.],\n",
       "       [ 1.,  0.,  0.,  0.,  1.],\n",
       "       [ 1.,  0.,  0.,  0.,  1.],\n",
       "       [ 1.,  0.,  0.,  0.,  1.],\n",
       "       [ 1.,  1.,  1.,  1.,  1.]])"
      ]
     },
     "execution_count": 58,
     "metadata": {},
     "output_type": "execute_result"
    }
   ],
   "source": [
    "Z = np.ones((5,5))\n",
    "Z[1:-1,1:-1] = 0\n",
    "Z"
   ]
  },
  {
   "cell_type": "markdown",
   "metadata": {},
   "source": [
    "#### 52. 使用数字 0 将一个全为 1 的 5x5 二维数组包围"
   ]
  },
  {
   "cell_type": "code",
   "execution_count": 59,
   "metadata": {},
   "outputs": [
    {
     "data": {
      "text/plain": [
       "array([[ 0.,  0.,  0.,  0.,  0.,  0.,  0.],\n",
       "       [ 0.,  1.,  1.,  1.,  1.,  1.,  0.],\n",
       "       [ 0.,  1.,  1.,  1.,  1.,  1.,  0.],\n",
       "       [ 0.,  1.,  1.,  1.,  1.,  1.,  0.],\n",
       "       [ 0.,  1.,  1.,  1.,  1.,  1.,  0.],\n",
       "       [ 0.,  1.,  1.,  1.,  1.,  1.,  0.],\n",
       "       [ 0.,  0.,  0.,  0.,  0.,  0.,  0.]])"
      ]
     },
     "execution_count": 59,
     "metadata": {},
     "output_type": "execute_result"
    }
   ],
   "source": [
    "Z = np.ones((5,5))\n",
    "Z = np.pad(Z, pad_width=1, mode='constant', constant_values=0)\n",
    "Z"
   ]
  },
  {
   "cell_type": "markdown",
   "metadata": {},
   "source": [
    "#### 53. 创建一个 5x5 的二维数组，并设置值 1, 2, 3, 4 落在其对角线下方"
   ]
  },
  {
   "cell_type": "code",
   "execution_count": 60,
   "metadata": {},
   "outputs": [
    {
     "data": {
      "text/plain": [
       "array([[0, 0, 0, 0, 0],\n",
       "       [1, 0, 0, 0, 0],\n",
       "       [0, 2, 0, 0, 0],\n",
       "       [0, 0, 3, 0, 0],\n",
       "       [0, 0, 0, 4, 0]])"
      ]
     },
     "execution_count": 60,
     "metadata": {},
     "output_type": "execute_result"
    }
   ],
   "source": [
    "Z = np.diag(1+np.arange(4),k=-1)\n",
    "Z"
   ]
  },
  {
   "cell_type": "markdown",
   "metadata": {},
   "source": [
    "#### 54. 创建一个 10x10 的二维数组，并使得 1 和 0 沿对角线间隔放置"
   ]
  },
  {
   "cell_type": "code",
   "execution_count": 61,
   "metadata": {},
   "outputs": [
    {
     "data": {
      "text/plain": [
       "array([[0, 1, 0, 1, 0, 1, 0, 1, 0, 1],\n",
       "       [1, 0, 1, 0, 1, 0, 1, 0, 1, 0],\n",
       "       [0, 1, 0, 1, 0, 1, 0, 1, 0, 1],\n",
       "       [1, 0, 1, 0, 1, 0, 1, 0, 1, 0],\n",
       "       [0, 1, 0, 1, 0, 1, 0, 1, 0, 1],\n",
       "       [1, 0, 1, 0, 1, 0, 1, 0, 1, 0],\n",
       "       [0, 1, 0, 1, 0, 1, 0, 1, 0, 1],\n",
       "       [1, 0, 1, 0, 1, 0, 1, 0, 1, 0],\n",
       "       [0, 1, 0, 1, 0, 1, 0, 1, 0, 1],\n",
       "       [1, 0, 1, 0, 1, 0, 1, 0, 1, 0]])"
      ]
     },
     "execution_count": 61,
     "metadata": {},
     "output_type": "execute_result"
    }
   ],
   "source": [
    "Z = np.zeros((10,10),dtype=int)\n",
    "Z[1::2,::2] = 1\n",
    "Z[::2,1::2] = 1\n",
    "Z"
   ]
  },
  {
   "cell_type": "markdown",
   "metadata": {},
   "source": [
    "#### 55. 创建一个 0-10 的一维数组，并将 (1, 9] 之间的数全部反转成负数"
   ]
  },
  {
   "cell_type": "code",
   "execution_count": 62,
   "metadata": {},
   "outputs": [
    {
     "data": {
      "text/plain": [
       "array([ 0,  1, -2, -3, -4, -5, -6, -7, -8, -9, 10])"
      ]
     },
     "execution_count": 62,
     "metadata": {},
     "output_type": "execute_result"
    }
   ],
   "source": [
    "Z = np.arange(11)\n",
    "Z[(1 < Z) & (Z <= 9)] *= -1\n",
    "Z"
   ]
  },
  {
   "cell_type": "markdown",
   "metadata": {},
   "source": [
    "#### 56. 找出两个一维数组中相同的元素"
   ]
  },
  {
   "cell_type": "code",
   "execution_count": 63,
   "metadata": {
    "scrolled": true
   },
   "outputs": [
    {
     "name": "stdout",
     "output_type": "stream",
     "text": [
      "Z1: [8 7 5 0 0 0 6 5 0 0]\n",
      "Z2: [3 2 9 2 8 3 0 5 5 3]\n"
     ]
    },
    {
     "data": {
      "text/plain": [
       "array([0, 5, 8])"
      ]
     },
     "execution_count": 63,
     "metadata": {},
     "output_type": "execute_result"
    }
   ],
   "source": [
    "Z1 = np.random.randint(0,10,10)\n",
    "Z2 = np.random.randint(0,10,10)\n",
    "print(\"Z1:\", Z1)\n",
    "print(\"Z2:\", Z2)\n",
    "np.intersect1d(Z1,Z2)"
   ]
  },
  {
   "cell_type": "markdown",
   "metadata": {},
   "source": [
    "#### 57. 使用 NumPy 打印昨天、今天、明天的日期"
   ]
  },
  {
   "cell_type": "code",
   "execution_count": 64,
   "metadata": {},
   "outputs": [
    {
     "name": "stdout",
     "output_type": "stream",
     "text": [
      "yesterday:  2018-06-10\n",
      "today:  2018-06-11\n",
      "tomorrow:  2018-06-12\n"
     ]
    }
   ],
   "source": [
    "yesterday = np.datetime64('today', 'D') - np.timedelta64(1, 'D')\n",
    "today     = np.datetime64('today', 'D')\n",
    "tomorrow  = np.datetime64('today', 'D') + np.timedelta64(1, 'D')\n",
    "print(\"yesterday: \", yesterday)\n",
    "print(\"today: \", today)\n",
    "print(\"tomorrow: \", tomorrow)"
   ]
  },
  {
   "cell_type": "markdown",
   "metadata": {},
   "source": [
    "#### 58. 使用五种不同的方法去提取一个随机数组的整数部分"
   ]
  },
  {
   "cell_type": "code",
   "execution_count": 65,
   "metadata": {},
   "outputs": [
    {
     "name": "stdout",
     "output_type": "stream",
     "text": [
      "原始值:  [ 2.34849753  5.8471314   6.89201249  3.97768366  4.85585905  9.32027625\n",
      "  6.75033705  6.2409969   8.48748775  7.3709162 ]\n",
      "方法 1:  [ 2.  5.  6.  3.  4.  9.  6.  6.  8.  7.]\n",
      "方法 2:  [ 2.  5.  6.  3.  4.  9.  6.  6.  8.  7.]\n",
      "方法 3:  [ 2.  5.  6.  3.  4.  9.  6.  6.  8.  7.]\n",
      "方法 4:  [2 5 6 3 4 9 6 6 8 7]\n",
      "方法 5:  [ 2.  5.  6.  3.  4.  9.  6.  6.  8.  7.]\n"
     ]
    }
   ],
   "source": [
    "Z = np.random.uniform(0,10,10)\n",
    "print(\"原始值: \", Z)\n",
    "\n",
    "print (\"方法 1: \", Z - Z%1)\n",
    "print (\"方法 2: \", np.floor(Z))\n",
    "print (\"方法 3: \", np.ceil(Z)-1)\n",
    "print (\"方法 4: \", Z.astype(int))\n",
    "print (\"方法 5: \", np.trunc(Z))"
   ]
  },
  {
   "cell_type": "markdown",
   "metadata": {},
   "source": [
    "#### 59. 创建一个 5x5 的矩阵，其中每行的数值范围从 1 到 5"
   ]
  },
  {
   "cell_type": "code",
   "execution_count": 66,
   "metadata": {},
   "outputs": [
    {
     "data": {
      "text/plain": [
       "array([[ 1.,  2.,  3.,  4.,  5.],\n",
       "       [ 1.,  2.,  3.,  4.,  5.],\n",
       "       [ 1.,  2.,  3.,  4.,  5.],\n",
       "       [ 1.,  2.,  3.,  4.,  5.],\n",
       "       [ 1.,  2.,  3.,  4.,  5.]])"
      ]
     },
     "execution_count": 66,
     "metadata": {},
     "output_type": "execute_result"
    }
   ],
   "source": [
    "Z = np.zeros((5,5))\n",
    "Z += np.arange(1,6)\n",
    "\n",
    "Z"
   ]
  },
  {
   "cell_type": "markdown",
   "metadata": {},
   "source": [
    "#### 60. 创建一个长度为 5 的等间隔一维数组，其值域范围从 0 到 1，但是不包括 0 和 1"
   ]
  },
  {
   "cell_type": "code",
   "execution_count": 67,
   "metadata": {},
   "outputs": [
    {
     "data": {
      "text/plain": [
       "array([ 0.16666667,  0.33333333,  0.5       ,  0.66666667,  0.83333333])"
      ]
     },
     "execution_count": 67,
     "metadata": {},
     "output_type": "execute_result"
    }
   ],
   "source": [
    "Z = np.linspace(0,1,6,endpoint=False)[1:]\n",
    "\n",
    "Z"
   ]
  },
  {
   "cell_type": "markdown",
   "metadata": {},
   "source": [
    "#### 61. 创建一个长度为10的随机一维数组，并将其按升序排序"
   ]
  },
  {
   "cell_type": "code",
   "execution_count": 68,
   "metadata": {},
   "outputs": [
    {
     "data": {
      "text/plain": [
       "array([ 0.04704219,  0.13073911,  0.16793806,  0.21573674,  0.32274172,\n",
       "        0.33681919,  0.38265352,  0.48890849,  0.57635014,  0.77245606])"
      ]
     },
     "execution_count": 68,
     "metadata": {},
     "output_type": "execute_result"
    }
   ],
   "source": [
    "Z = np.random.random(10)\n",
    "Z.sort()\n",
    "Z"
   ]
  },
  {
   "cell_type": "markdown",
   "metadata": {},
   "source": [
    "#### 62. 创建一个 3x3 的二维数组，并将列按升序排序"
   ]
  },
  {
   "cell_type": "code",
   "execution_count": 69,
   "metadata": {},
   "outputs": [
    {
     "name": "stdout",
     "output_type": "stream",
     "text": [
      "原始数组: \n",
      " [[7 4 3]\n",
      " [3 1 2]\n",
      " [4 2 6]]\n"
     ]
    },
    {
     "data": {
      "text/plain": [
       "array([[3, 1, 2],\n",
       "       [4, 2, 3],\n",
       "       [7, 4, 6]])"
      ]
     },
     "execution_count": 69,
     "metadata": {},
     "output_type": "execute_result"
    }
   ],
   "source": [
    "Z = np.array([[7,4,3],[3,1,2],[4,2,6]])\n",
    "print(\"原始数组: \\n\", Z)\n",
    "\n",
    "Z.sort(axis=0)\n",
    "Z"
   ]
  },
  {
   "cell_type": "markdown",
   "metadata": {},
   "source": [
    "#### 63. 创建一个长度为 5 的一维数组，并将其中最大值替换成 0"
   ]
  },
  {
   "cell_type": "code",
   "execution_count": 70,
   "metadata": {},
   "outputs": [
    {
     "name": "stdout",
     "output_type": "stream",
     "text": [
      "原数组:  [ 0.22361978  0.03026045  0.82690124  0.07974759  0.55466401]\n"
     ]
    },
    {
     "data": {
      "text/plain": [
       "array([ 0.22361978,  0.03026045,  0.        ,  0.07974759,  0.55466401])"
      ]
     },
     "execution_count": 70,
     "metadata": {},
     "output_type": "execute_result"
    }
   ],
   "source": [
    "Z = np.random.random(5)\n",
    "print(\"原数组: \",Z)\n",
    "Z[Z.argmax()] = 0\n",
    "Z"
   ]
  },
  {
   "cell_type": "markdown",
   "metadata": {},
   "source": [
    "#### 64. 打印每个 NumPy 标量类型的最小值和最大值"
   ]
  },
  {
   "cell_type": "code",
   "execution_count": 71,
   "metadata": {
    "scrolled": true
   },
   "outputs": [
    {
     "name": "stdout",
     "output_type": "stream",
     "text": [
      "The minimum value of <class 'numpy.int8'>:  -128\n",
      "The maximum value of <class 'numpy.int8'>:  127\n",
      "The minimum value of <class 'numpy.int32'>:  -2147483648\n",
      "The maximum value of <class 'numpy.int32'>:  2147483647\n",
      "The minimum value of <class 'numpy.int64'>:  -9223372036854775808\n",
      "The maximum value of <class 'numpy.int64'>:  9223372036854775807\n",
      "The minimum value of <class 'numpy.float32'>:  -3.40282e+38\n",
      "The maximum value of <class 'numpy.float32'>:  3.40282e+38\n",
      "The minimum value of <class 'numpy.float64'>:  -1.79769313486e+308\n",
      "The maximum value of <class 'numpy.float64'>:  1.79769313486e+308\n"
     ]
    }
   ],
   "source": [
    "for dtype in [np.int8, np.int32, np.int64]:\n",
    "   print(\"The minimum value of {}: \".format(dtype), np.iinfo(dtype).min)\n",
    "   print(\"The maximum value of {}: \".format(dtype),np.iinfo(dtype).max)\n",
    "for dtype in [np.float32, np.float64]:\n",
    "   print(\"The minimum value of {}: \".format(dtype),np.finfo(dtype).min)\n",
    "   print(\"The maximum value of {}: \".format(dtype),np.finfo(dtype).max)"
   ]
  },
  {
   "cell_type": "markdown",
   "metadata": {},
   "source": [
    "#### 65. 将 `float32` 转换为整型"
   ]
  },
  {
   "cell_type": "code",
   "execution_count": 72,
   "metadata": {},
   "outputs": [
    {
     "name": "stdout",
     "output_type": "stream",
     "text": [
      "[ 0.  1.  2.  3.  4.  5.  6.  7.  8.  9.]\n"
     ]
    },
    {
     "data": {
      "text/plain": [
       "array([0, 1, 2, 3, 4, 5, 6, 7, 8, 9], dtype=int32)"
      ]
     },
     "execution_count": 72,
     "metadata": {},
     "output_type": "execute_result"
    }
   ],
   "source": [
    "Z = np.arange(10, dtype=np.float32)\n",
    "print(Z)\n",
    "\n",
    "Z = Z.astype(np.int32, copy=False)\n",
    "Z"
   ]
  },
  {
   "cell_type": "markdown",
   "metadata": {},
   "source": [
    "#### 66. 将随机二维数组按照第 3 列从上到下进行升序排列"
   ]
  },
  {
   "cell_type": "code",
   "execution_count": 73,
   "metadata": {},
   "outputs": [
    {
     "name": "stdout",
     "output_type": "stream",
     "text": [
      "排序前：\n",
      " [[4 5 1 3 7]\n",
      " [0 4 8 8 7]\n",
      " [8 4 9 0 8]\n",
      " [5 6 3 9 3]\n",
      " [2 6 0 9 4]]\n"
     ]
    },
    {
     "data": {
      "text/plain": [
       "array([[2, 6, 0, 9, 4],\n",
       "       [4, 5, 1, 3, 7],\n",
       "       [5, 6, 3, 9, 3],\n",
       "       [0, 4, 8, 8, 7],\n",
       "       [8, 4, 9, 0, 8]])"
      ]
     },
     "execution_count": 73,
     "metadata": {},
     "output_type": "execute_result"
    }
   ],
   "source": [
    "Z = np.random.randint(0,10,(5,5))\n",
    "print(\"排序前：\\n\",Z)\n",
    "\n",
    "Z[Z[:,2].argsort()]"
   ]
  },
  {
   "cell_type": "markdown",
   "metadata": {},
   "source": [
    "#### 67. 从随机一维数组中找出距离给定数值（0.5）最近的数"
   ]
  },
  {
   "cell_type": "code",
   "execution_count": 74,
   "metadata": {
    "scrolled": true
   },
   "outputs": [
    {
     "name": "stdout",
     "output_type": "stream",
     "text": [
      "随机数组: \n",
      " [ 0.88356965  0.66040993  0.68960279  0.91236757  0.62831562  0.3011992\n",
      "  0.37976862  0.45362642  0.55571325  0.89578096  0.55478295  0.15422001\n",
      "  0.79225419  0.33083038  0.78011113  0.6755186   0.2900872   0.41184525\n",
      "  0.00278241  0.059935  ]\n"
     ]
    },
    {
     "data": {
      "text/plain": [
       "0.45362642481829141"
      ]
     },
     "execution_count": 74,
     "metadata": {},
     "output_type": "execute_result"
    }
   ],
   "source": [
    "Z = np.random.uniform(0,1,20)\n",
    "print(\"随机数组: \\n\", Z)\n",
    "z = 0.5\n",
    "m = Z.flat[np.abs(Z - z).argmin()]\n",
    "\n",
    "m"
   ]
  },
  {
   "cell_type": "markdown",
   "metadata": {},
   "source": [
    "#### 68. 将二维数组的前两行进行顺序交换"
   ]
  },
  {
   "cell_type": "code",
   "execution_count": 75,
   "metadata": {},
   "outputs": [
    {
     "name": "stdout",
     "output_type": "stream",
     "text": [
      "[[ 0  1  2  3  4]\n",
      " [ 5  6  7  8  9]\n",
      " [10 11 12 13 14]\n",
      " [15 16 17 18 19]\n",
      " [20 21 22 23 24]]\n",
      "[[ 5  6  7  8  9]\n",
      " [ 0  1  2  3  4]\n",
      " [10 11 12 13 14]\n",
      " [15 16 17 18 19]\n",
      " [20 21 22 23 24]]\n"
     ]
    }
   ],
   "source": [
    "A = np.arange(25).reshape(5,5)\n",
    "print(A)\n",
    "A[[0,1]] = A[[1,0]]\n",
    "print(A)"
   ]
  },
  {
   "cell_type": "markdown",
   "metadata": {},
   "source": [
    "#### 69. 找出随机一维数组中出现频率最高的值"
   ]
  },
  {
   "cell_type": "code",
   "execution_count": 76,
   "metadata": {},
   "outputs": [
    {
     "name": "stdout",
     "output_type": "stream",
     "text": [
      "随机一维数组: [3 6 5 5 5 7 6 9 0 4 8 8 4 8 1 6 8 4 3 0 2 1 7 0 3 8 4 9 9 4 5 6 3 0 5 9 9\n",
      " 7 2 4 5 5 7 3 8 4 4 4 8 4]\n"
     ]
    },
    {
     "data": {
      "text/plain": [
       "4"
      ]
     },
     "execution_count": 76,
     "metadata": {},
     "output_type": "execute_result"
    }
   ],
   "source": [
    "Z = np.random.randint(0,10,50)\n",
    "print(\"随机一维数组:\", Z)\n",
    "np.bincount(Z).argmax()"
   ]
  },
  {
   "cell_type": "markdown",
   "metadata": {},
   "source": [
    "#### 70. 找出给定一维数组中非 0 元素的位置索引"
   ]
  },
  {
   "cell_type": "code",
   "execution_count": 77,
   "metadata": {},
   "outputs": [
    {
     "data": {
      "text/plain": [
       "(array([0, 2, 4, 6]),)"
      ]
     },
     "execution_count": 77,
     "metadata": {},
     "output_type": "execute_result"
    }
   ],
   "source": [
    "Z = np.nonzero([1,0,2,0,1,0,4,0])\n",
    "Z"
   ]
  },
  {
   "cell_type": "markdown",
   "metadata": {},
   "source": [
    "#### 71. 对于给定的 5x5 二维数组，在其内部随机放置 p 个值为 1 的数"
   ]
  },
  {
   "cell_type": "code",
   "execution_count": 78,
   "metadata": {},
   "outputs": [
    {
     "data": {
      "text/plain": [
       "array([[ 0.,  0.,  0.,  0.,  0.],\n",
       "       [ 0.,  0.,  0.,  0.,  0.],\n",
       "       [ 1.,  0.,  0.,  0.,  0.],\n",
       "       [ 0.,  0.,  0.,  1.,  0.],\n",
       "       [ 0.,  0.,  1.,  0.,  0.]])"
      ]
     },
     "execution_count": 78,
     "metadata": {},
     "output_type": "execute_result"
    }
   ],
   "source": [
    "p = 3\n",
    "\n",
    "Z = np.zeros((5,5))\n",
    "np.put(Z, np.random.choice(range(5*5), p, replace=False),1)\n",
    "\n",
    "Z"
   ]
  },
  {
   "cell_type": "markdown",
   "metadata": {},
   "source": [
    "#### 72. 对于随机的 3x3 二维数组，减去数组每一行的平均值"
   ]
  },
  {
   "cell_type": "code",
   "execution_count": 79,
   "metadata": {
    "scrolled": true
   },
   "outputs": [
    {
     "name": "stdout",
     "output_type": "stream",
     "text": [
      "[[ 0.39996963  0.99161948  0.91082797]\n",
      " [ 0.5308575   0.95244088  0.08921411]\n",
      " [ 0.43552011  0.36044021  0.99248996]]\n"
     ]
    },
    {
     "data": {
      "text/plain": [
       "array([[-0.36750273,  0.22414712,  0.14335561],\n",
       "       [ 0.00668667,  0.42827005, -0.43495672],\n",
       "       [-0.16062999, -0.23570988,  0.39633987]])"
      ]
     },
     "execution_count": 79,
     "metadata": {},
     "output_type": "execute_result"
    }
   ],
   "source": [
    "X = np.random.rand(3, 3)\n",
    "print(X)\n",
    "\n",
    "Y = X - X.mean(axis=1, keepdims=True)\n",
    "Y"
   ]
  },
  {
   "cell_type": "markdown",
   "metadata": {},
   "source": [
    "#### 73. 获得二维数组点积结果的对角线数组"
   ]
  },
  {
   "cell_type": "code",
   "execution_count": 80,
   "metadata": {},
   "outputs": [
    {
     "name": "stdout",
     "output_type": "stream",
     "text": [
      "[[ 0.57026382  0.67481107  0.34381515]\n",
      " [ 0.4053748   0.46139469  0.32998463]\n",
      " [ 0.84791656  0.98486972  0.60942022]]\n"
     ]
    },
    {
     "data": {
      "text/plain": [
       "array([ 0.57026382,  0.46139469,  0.60942022])"
      ]
     },
     "execution_count": 80,
     "metadata": {},
     "output_type": "execute_result"
    }
   ],
   "source": [
    "A = np.random.uniform(0,1,(3,3))\n",
    "B = np.random.uniform(0,1,(3,3))\n",
    "\n",
    "print(np.dot(A, B))\n",
    "\n",
    "# 较慢的方法\n",
    "np.diag(np.dot(A, B))"
   ]
  },
  {
   "cell_type": "code",
   "execution_count": 81,
   "metadata": {},
   "outputs": [
    {
     "data": {
      "text/plain": [
       "array([ 0.57026382,  0.46139469,  0.60942022])"
      ]
     },
     "execution_count": 81,
     "metadata": {},
     "output_type": "execute_result"
    }
   ],
   "source": [
    "# 较快的方法\n",
    "np.sum(A * B.T, axis=1)"
   ]
  },
  {
   "cell_type": "code",
   "execution_count": 82,
   "metadata": {},
   "outputs": [
    {
     "data": {
      "text/plain": [
       "array([ 0.57026382,  0.46139469,  0.60942022])"
      ]
     },
     "execution_count": 82,
     "metadata": {},
     "output_type": "execute_result"
    }
   ],
   "source": [
    "# 更快的方法\n",
    "np.einsum(\"ij, ji->i\", A, B)"
   ]
  },
  {
   "cell_type": "markdown",
   "metadata": {},
   "source": [
    "#### 74. 找到随机一维数组中前 p 个最大值"
   ]
  },
  {
   "cell_type": "code",
   "execution_count": 83,
   "metadata": {},
   "outputs": [
    {
     "name": "stdout",
     "output_type": "stream",
     "text": [
      "[26 62 83 37  9 39 39 13 81 92 51 98 75 29  1 57 28 85 97 59 40 53 68 98 50\n",
      " 35 35 99 14 60 56  8 91 64 56 99 17 61 30 66 95 21 59 59 46 19 49 79 19 91\n",
      " 88 64 77 86 69 66 52 17 42 49 19 43 96 94 14 91 24 81 91 43  5 55  6 60 50\n",
      "  7 54 61 58 94 13 45 11 87 33 75 40 70  4 11 71 29 37 64 47 21 69 58 57  5]\n"
     ]
    },
    {
     "data": {
      "text/plain": [
       "array([97, 98, 98, 99, 99])"
      ]
     },
     "execution_count": 83,
     "metadata": {},
     "output_type": "execute_result"
    }
   ],
   "source": [
    "Z = np.random.randint(1,100,100)\n",
    "print(Z)\n",
    "\n",
    "p = 5\n",
    "\n",
    "Z[np.argsort(Z)[-p:]]"
   ]
  },
  {
   "cell_type": "markdown",
   "metadata": {},
   "source": [
    "#### 75. 计算随机一维数组中每个元素的 4 次方数值"
   ]
  },
  {
   "cell_type": "code",
   "execution_count": 84,
   "metadata": {
    "scrolled": true
   },
   "outputs": [
    {
     "name": "stdout",
     "output_type": "stream",
     "text": [
      "[2 4 3 4 3]\n"
     ]
    },
    {
     "data": {
      "text/plain": [
       "array([ 16, 256,  81, 256,  81])"
      ]
     },
     "execution_count": 84,
     "metadata": {},
     "output_type": "execute_result"
    }
   ],
   "source": [
    "x = np.random.randint(2,5,5)\n",
    "print(x)\n",
    "\n",
    "np.power(x,4)"
   ]
  },
  {
   "cell_type": "markdown",
   "metadata": {},
   "source": [
    "#### 76. 对于二维随机数组中各元素，保留其 2 位小数"
   ]
  },
  {
   "cell_type": "code",
   "execution_count": 85,
   "metadata": {},
   "outputs": [
    {
     "name": "stdout",
     "output_type": "stream",
     "text": [
      "[[ 0.25143863  0.28398802  0.77733418  0.13658109  0.86040321]\n",
      " [ 0.11129687  0.0437546   0.40870284  0.22466922  0.56572343]\n",
      " [ 0.38117376  0.69273425  0.54910575  0.22882504  0.14982457]\n",
      " [ 0.73285711  0.95347896  0.06485167  0.85749753  0.35840378]\n",
      " [ 0.96081308  0.72538574  0.92172574  0.3235504   0.0998647 ]]\n"
     ]
    },
    {
     "data": {
      "text/plain": [
       "array([[ 0.25,  0.28,  0.78,  0.14,  0.86],\n",
       "       [ 0.11,  0.04,  0.41,  0.22,  0.57],\n",
       "       [ 0.38,  0.69,  0.55,  0.23,  0.15],\n",
       "       [ 0.73,  0.95,  0.06,  0.86,  0.36],\n",
       "       [ 0.96,  0.73,  0.92,  0.32,  0.1 ]])"
      ]
     },
     "execution_count": 85,
     "metadata": {},
     "output_type": "execute_result"
    }
   ],
   "source": [
    "Z = np.random.random((5,5))\n",
    "print(Z)\n",
    "\n",
    "np.set_printoptions(precision=2)\n",
    "Z"
   ]
  },
  {
   "cell_type": "markdown",
   "metadata": {},
   "source": [
    "#### 77. 使用科学记数法输出 NumPy 数组"
   ]
  },
  {
   "cell_type": "code",
   "execution_count": 86,
   "metadata": {},
   "outputs": [
    {
     "name": "stdout",
     "output_type": "stream",
     "text": [
      "[[ 0.84  0.45  0.09  0.35  0.9 ]\n",
      " [ 0.18  0.95  0.93  0.58  0.96]\n",
      " [ 0.98  0.18  0.29  0.05  0.38]\n",
      " [ 0.19  0.53  0.55  0.96  0.59]\n",
      " [ 0.41  0.62  0.07  0.28  0.74]]\n"
     ]
    },
    {
     "data": {
      "text/plain": [
       "array([[  8.44e-04,   4.47e-04,   8.66e-05,   3.52e-04,   9.00e-04],\n",
       "       [  1.83e-04,   9.48e-04,   9.31e-04,   5.79e-04,   9.64e-04],\n",
       "       [  9.83e-04,   1.84e-04,   2.94e-04,   5.22e-05,   3.75e-04],\n",
       "       [  1.92e-04,   5.30e-04,   5.49e-04,   9.57e-04,   5.90e-04],\n",
       "       [  4.10e-04,   6.25e-04,   6.50e-05,   2.77e-04,   7.37e-04]])"
      ]
     },
     "execution_count": 86,
     "metadata": {},
     "output_type": "execute_result"
    }
   ],
   "source": [
    "Z = np.random.random([5,5])\n",
    "print(Z)\n",
    "\n",
    "Z/1e3"
   ]
  },
  {
   "cell_type": "markdown",
   "metadata": {},
   "source": [
    "#### 78. 使用 NumPy 找出百分位数（25%，50%，75%）"
   ]
  },
  {
   "cell_type": "code",
   "execution_count": 87,
   "metadata": {},
   "outputs": [
    {
     "name": "stdout",
     "output_type": "stream",
     "text": [
      "[ 0  1  2  3  4  5  6  7  8  9 10 11 12 13 14]\n"
     ]
    },
    {
     "data": {
      "text/plain": [
       "array([  3.5,   7. ,  10.5])"
      ]
     },
     "execution_count": 87,
     "metadata": {},
     "output_type": "execute_result"
    }
   ],
   "source": [
    "a = np.arange(15)\n",
    "print(a)\n",
    "\n",
    "np.percentile(a, q=[25, 50, 75])"
   ]
  },
  {
   "cell_type": "markdown",
   "metadata": {},
   "source": [
    "#### 79. 找出数组中缺失值的总数及所在位置"
   ]
  },
  {
   "cell_type": "code",
   "execution_count": 88,
   "metadata": {},
   "outputs": [
    {
     "data": {
      "text/plain": [
       "array([[ 0.8 ,  0.3 ,  0.65,  0.43,  0.9 ,   nan,   nan,  0.06,  0.85,\n",
       "         0.13],\n",
       "       [ 0.45,  0.95,  0.45,  0.05,  0.38,  0.89,  0.  ,  0.58,  0.  ,\n",
       "         0.66],\n",
       "       [ 0.72,  0.81,  0.77,  0.8 ,  0.88,  0.78,  0.74,  0.39,  0.92,\n",
       "         0.18],\n",
       "       [ 0.19,  0.5 ,  0.86,  0.52,  0.94,  0.71,  0.6 ,  0.57,  0.47,\n",
       "         0.31],\n",
       "       [ 0.63,  0.35,  0.76,  0.33,  0.25,  0.34,  0.17,  0.83,  0.93,\n",
       "          nan],\n",
       "       [ 0.88,  0.74,  0.01,  0.06,  0.89,  0.01,  0.78,  0.42,  0.27,\n",
       "         0.68],\n",
       "       [ 0.62,  0.98,  0.54,  0.12,  0.51,  0.14,  0.12,  0.71,  0.22,\n",
       "         0.15],\n",
       "       [  nan,  0.2 ,  0.72,  0.43,  0.58,  0.16,  0.23,  0.34,  0.78,\n",
       "         0.89],\n",
       "       [ 0.8 ,   nan,  0.57,  0.95,  0.23,  0.37,  0.58,  0.82,  0.94,\n",
       "         0.76],\n",
       "       [ 0.03,  0.17,  0.75,  0.35,  0.46,  0.21,  0.41,  0.74,  0.18,\n",
       "         0.69]])"
      ]
     },
     "execution_count": 88,
     "metadata": {},
     "output_type": "execute_result"
    }
   ],
   "source": [
    "# 生成含缺失值的 2 维数组\n",
    "Z = np.random.rand(10,10)\n",
    "Z[np.random.randint(10, size=5), np.random.randint(10, size=5)] = np.nan\n",
    "Z"
   ]
  },
  {
   "cell_type": "code",
   "execution_count": 89,
   "metadata": {},
   "outputs": [
    {
     "name": "stdout",
     "output_type": "stream",
     "text": [
      "缺失值总数: \n",
      " 5\n",
      "缺失值索引: \n",
      " (array([0, 0, 4, 7, 8]), array([5, 6, 9, 0, 1]))\n"
     ]
    }
   ],
   "source": [
    "print(\"缺失值总数: \\n\", np.isnan(Z).sum())\n",
    "print(\"缺失值索引: \\n\", np.where(np.isnan(Z)))"
   ]
  },
  {
   "cell_type": "markdown",
   "metadata": {},
   "source": [
    "#### 80. 从随机数组中删除包含缺失值的行"
   ]
  },
  {
   "cell_type": "code",
   "execution_count": 90,
   "metadata": {},
   "outputs": [
    {
     "data": {
      "text/plain": [
       "array([[ 0.45,  0.95,  0.45,  0.05,  0.38,  0.89,  0.  ,  0.58,  0.  ,\n",
       "         0.66],\n",
       "       [ 0.72,  0.81,  0.77,  0.8 ,  0.88,  0.78,  0.74,  0.39,  0.92,\n",
       "         0.18],\n",
       "       [ 0.19,  0.5 ,  0.86,  0.52,  0.94,  0.71,  0.6 ,  0.57,  0.47,\n",
       "         0.31],\n",
       "       [ 0.88,  0.74,  0.01,  0.06,  0.89,  0.01,  0.78,  0.42,  0.27,\n",
       "         0.68],\n",
       "       [ 0.62,  0.98,  0.54,  0.12,  0.51,  0.14,  0.12,  0.71,  0.22,\n",
       "         0.15],\n",
       "       [ 0.03,  0.17,  0.75,  0.35,  0.46,  0.21,  0.41,  0.74,  0.18,\n",
       "         0.69]])"
      ]
     },
     "execution_count": 90,
     "metadata": {},
     "output_type": "execute_result"
    }
   ],
   "source": [
    "# 沿用 79 题中的含缺失值的 2 维数组\n",
    "\n",
    "Z[np.sum(np.isnan(Z), axis=1) == 0]"
   ]
  },
  {
   "cell_type": "markdown",
   "metadata": {},
   "source": [
    "#### 81. 统计随机数组中的各元素的数量"
   ]
  },
  {
   "cell_type": "code",
   "execution_count": 91,
   "metadata": {},
   "outputs": [
    {
     "name": "stdout",
     "output_type": "stream",
     "text": [
      "[[86 51 61 32 99]\n",
      " [44 11 36 53 94]\n",
      " [97 82 73  7 22]\n",
      " [55 91 18 82 14]\n",
      " [31  3 52 41 19]]\n"
     ]
    },
    {
     "data": {
      "text/plain": [
       "(array([ 3,  7, 11, 14, 18, 19, 22, 31, 32, 36, 41, 44, 51, 52, 53, 55, 61,\n",
       "        73, 82, 86, 91, 94, 97, 99]),\n",
       " array([1, 1, 1, 1, 1, 1, 1, 1, 1, 1, 1, 1, 1, 1, 1, 1, 1, 1, 2, 1, 1, 1, 1,\n",
       "        1]))"
      ]
     },
     "execution_count": 91,
     "metadata": {},
     "output_type": "execute_result"
    }
   ],
   "source": [
    "Z = np.random.randint(0,100,25).reshape(5,5)\n",
    "print(Z)\n",
    "\n",
    "np.unique(Z, return_counts=True) # 返回值中，第 2 个数组对应第 1 个数组元素的数量"
   ]
  },
  {
   "cell_type": "markdown",
   "metadata": {},
   "source": [
    "#### 82. 将数组中各元素按指定分类转换为文本值"
   ]
  },
  {
   "cell_type": "code",
   "execution_count": 92,
   "metadata": {},
   "outputs": [
    {
     "name": "stdout",
     "output_type": "stream",
     "text": [
      "[3 1 2 1 2 1 3 2 2 3]\n"
     ]
    },
    {
     "data": {
      "text/plain": [
       "['火车', '汽车', '公交车', '汽车', '公交车', '汽车', '火车', '公交车', '公交车', '火车']"
      ]
     },
     "execution_count": 92,
     "metadata": {},
     "output_type": "execute_result"
    }
   ],
   "source": [
    "# 指定类别如下\n",
    "# 1 → 汽车\n",
    "# 2 → 公交车\n",
    "# 3 → 火车\n",
    "\n",
    "\n",
    "Z = np.random.randint(1,4,10)\n",
    "print(Z)\n",
    "\n",
    "label_map = {1: \"汽车\", 2: \"公交车\", 3: \"火车\"}\n",
    "\n",
    "[label_map[x] for x in Z]"
   ]
  },
  {
   "cell_type": "markdown",
   "metadata": {},
   "source": [
    "#### 83. 将多个 1 维数组拼合为单个 Ndarray"
   ]
  },
  {
   "cell_type": "code",
   "execution_count": 93,
   "metadata": {},
   "outputs": [
    {
     "name": "stdout",
     "output_type": "stream",
     "text": [
      "[array([0, 1, 2]) array([3, 4, 5, 6]) array([7, 8, 9])]\n"
     ]
    },
    {
     "data": {
      "text/plain": [
       "array([0, 1, 2, 3, 4, 5, 6, 7, 8, 9])"
      ]
     },
     "execution_count": 93,
     "metadata": {},
     "output_type": "execute_result"
    }
   ],
   "source": [
    "Z1 = np.arange(3)\n",
    "Z2 = np.arange(3,7)\n",
    "Z3 = np.arange(7,10)\n",
    "\n",
    "Z = np.array([Z1, Z2, Z3])\n",
    "print(Z)\n",
    "\n",
    "np.concatenate(Z)"
   ]
  },
  {
   "cell_type": "markdown",
   "metadata": {},
   "source": [
    "#### 84. 打印各元素在数组中升序排列的索引"
   ]
  },
  {
   "cell_type": "code",
   "execution_count": 94,
   "metadata": {},
   "outputs": [
    {
     "name": "stdout",
     "output_type": "stream",
     "text": [
      "Array:  [88 79 13 97  7 57 57 93 96 83]\n"
     ]
    },
    {
     "data": {
      "text/plain": [
       "array([6, 4, 1, 9, 0, 2, 3, 7, 8, 5])"
      ]
     },
     "execution_count": 94,
     "metadata": {},
     "output_type": "execute_result"
    }
   ],
   "source": [
    "a = np.random.randint(100, size=10)\n",
    "print('Array: ', a)\n",
    "\n",
    "a.argsort().argsort()"
   ]
  },
  {
   "cell_type": "markdown",
   "metadata": {},
   "source": [
    "#### 85. 得到二维随机数组各行的最大值"
   ]
  },
  {
   "cell_type": "code",
   "execution_count": 95,
   "metadata": {
    "scrolled": true
   },
   "outputs": [
    {
     "name": "stdout",
     "output_type": "stream",
     "text": [
      "[[46  6 91 31 52]\n",
      " [68 80 79 96 49]\n",
      " [28 12 30 75  3]\n",
      " [33 10 53  7 57]\n",
      " [51 25 92 21  8]]\n"
     ]
    },
    {
     "data": {
      "text/plain": [
       "array([91, 96, 75, 57, 92])"
      ]
     },
     "execution_count": 95,
     "metadata": {},
     "output_type": "execute_result"
    }
   ],
   "source": [
    "Z = np.random.randint(1,100, [5,5])\n",
    "print(Z)\n",
    "\n",
    "np.amax(Z, axis=1)"
   ]
  },
  {
   "cell_type": "markdown",
   "metadata": {},
   "source": [
    "#### 86. 得到二维随机数组各行的最小值（区别上面的方法）"
   ]
  },
  {
   "cell_type": "code",
   "execution_count": 96,
   "metadata": {
    "scrolled": true
   },
   "outputs": [
    {
     "name": "stdout",
     "output_type": "stream",
     "text": [
      "[[ 9 63 20 25 99]\n",
      " [42  6 42 75 63]\n",
      " [96 10 53 59 30]\n",
      " [47 62 20 27 61]\n",
      " [54 30 45 39 89]]\n"
     ]
    },
    {
     "data": {
      "text/plain": [
       "array([ 9,  6, 10, 20, 30])"
      ]
     },
     "execution_count": 96,
     "metadata": {},
     "output_type": "execute_result"
    }
   ],
   "source": [
    "Z = np.random.randint(1,100, [5,5])\n",
    "print(Z)\n",
    "\n",
    "np.apply_along_axis(np.min, arr=Z, axis=1)"
   ]
  },
  {
   "cell_type": "markdown",
   "metadata": {},
   "source": [
    "#### 87. 计算两个数组之间的欧氏距离"
   ]
  },
  {
   "cell_type": "code",
   "execution_count": 97,
   "metadata": {},
   "outputs": [
    {
     "name": "stdout",
     "output_type": "stream",
     "text": [
      "8.48528137424\n"
     ]
    },
    {
     "data": {
      "text/plain": [
       "8.4852813742385695"
      ]
     },
     "execution_count": 97,
     "metadata": {},
     "output_type": "execute_result"
    }
   ],
   "source": [
    "a = np.array([1, 2])\n",
    "b = np.array([7, 8])\n",
    "\n",
    "# 数学计算方法\n",
    "print(np.sqrt(np.power((8-2), 2) + np.power((7-1), 2)))\n",
    "\n",
    "# NumPy 计算\n",
    "np.linalg.norm(b-a)"
   ]
  },
  {
   "cell_type": "markdown",
   "metadata": {},
   "source": [
    "#### 88. 打印复数的实部和虚部"
   ]
  },
  {
   "cell_type": "code",
   "execution_count": 98,
   "metadata": {},
   "outputs": [
    {
     "name": "stdout",
     "output_type": "stream",
     "text": [
      "实部： [ 1.  3.  5.]\n",
      "虚部： [ 2.  4.  6.]\n"
     ]
    }
   ],
   "source": [
    "a = np.array([1 + 2j, 3 + 4j, 5 + 6j])\n",
    "\n",
    "print(\"实部：\", a.real)\n",
    "print(\"虚部：\", a.imag)"
   ]
  },
  {
   "cell_type": "markdown",
   "metadata": {},
   "source": [
    "#### 89. 求解给出矩阵的逆矩阵并验证"
   ]
  },
  {
   "cell_type": "code",
   "execution_count": 99,
   "metadata": {},
   "outputs": [
    {
     "data": {
      "text/plain": [
       "array([[-2. ,  1. ],\n",
       "       [ 1.5, -0.5]])"
      ]
     },
     "execution_count": 99,
     "metadata": {},
     "output_type": "execute_result"
    }
   ],
   "source": [
    "matrix = np.array([[1., 2.], [3., 4.]])\n",
    "\n",
    "inverse_matrix = np.linalg.inv(matrix)\n",
    "\n",
    "# 验证原矩阵和逆矩阵的点积是否为单位矩阵\n",
    "assert np.allclose(np.dot(matrix, inverse_matrix), np.eye(2))\n",
    "\n",
    "inverse_matrix"
   ]
  },
  {
   "cell_type": "markdown",
   "metadata": {},
   "source": [
    "#### 90. 使用 Z-Score 标准化算法对数据进行标准化处理"
   ]
  },
  {
   "cell_type": "markdown",
   "metadata": {},
   "source": [
    "Z-Score 标准化公式：\n",
    "$$Z = \\frac{X-\\mathrm{mean}(X)}{\\mathrm{sd}(X)}$$"
   ]
  },
  {
   "cell_type": "code",
   "execution_count": 100,
   "metadata": {},
   "outputs": [
    {
     "name": "stdout",
     "output_type": "stream",
     "text": [
      "[[5 2 9 2 8]\n",
      " [1 7 9 9 5]\n",
      " [0 3 9 2 8]\n",
      " [0 6 4 1 4]\n",
      " [4 5 0 6 3]]\n"
     ]
    },
    {
     "data": {
      "text/plain": [
       "array([[ 0.17, -0.82,  1.5 , -0.82,  1.17],\n",
       "       [-1.16,  0.84,  1.5 ,  1.5 ,  0.17],\n",
       "       [-1.49, -0.49,  1.5 , -0.82,  1.17],\n",
       "       [-1.49,  0.51, -0.16, -1.16, -0.16],\n",
       "       [-0.16,  0.17, -1.49,  0.51, -0.49]])"
      ]
     },
     "execution_count": 100,
     "metadata": {},
     "output_type": "execute_result"
    }
   ],
   "source": [
    "# 根据公式定义函数\n",
    "def zscore(x, axis = None):\n",
    "    xmean = x.mean(axis=axis, keepdims=True)\n",
    "    xstd  = np.std(x, axis=axis, keepdims=True)\n",
    "    zscore = (x-xmean)/xstd\n",
    "    return zscore\n",
    "\n",
    "# 生成随机数据\n",
    "Z = np.random.randint(10, size=(5,5))\n",
    "print(Z)\n",
    "\n",
    "zscore(Z)"
   ]
  },
  {
   "cell_type": "markdown",
   "metadata": {},
   "source": [
    "#### 91. 使用 Min-Max 标准化算法对数据进行标准化处理"
   ]
  },
  {
   "cell_type": "markdown",
   "metadata": {},
   "source": [
    "Min-Max 标准化公式：\n",
    "$$Y = \\frac{Z-\\min(Z)}{\\max(Z)-\\min(Z)}$$"
   ]
  },
  {
   "cell_type": "code",
   "execution_count": 101,
   "metadata": {},
   "outputs": [
    {
     "name": "stdout",
     "output_type": "stream",
     "text": [
      "[[2 6 8 4 1]\n",
      " [6 9 1 7 9]\n",
      " [5 9 7 0 1]\n",
      " [2 1 6 8 0]\n",
      " [9 0 9 7 3]]\n"
     ]
    },
    {
     "data": {
      "text/plain": [
       "array([[ 0.22,  0.67,  0.89,  0.44,  0.11],\n",
       "       [ 0.67,  1.  ,  0.11,  0.78,  1.  ],\n",
       "       [ 0.56,  1.  ,  0.78,  0.  ,  0.11],\n",
       "       [ 0.22,  0.11,  0.67,  0.89,  0.  ],\n",
       "       [ 1.  ,  0.  ,  1.  ,  0.78,  0.33]])"
      ]
     },
     "execution_count": 101,
     "metadata": {},
     "output_type": "execute_result"
    }
   ],
   "source": [
    "# 根据公式定义函数\n",
    "def min_max(x, axis=None):\n",
    "    min = x.min(axis=axis, keepdims=True)\n",
    "    max = x.max(axis=axis, keepdims=True)\n",
    "    result = (x-min)/(max-min)\n",
    "    return result\n",
    "\n",
    "# 生成随机数据\n",
    "Z = np.random.randint(10, size=(5,5))\n",
    "print(Z)\n",
    "\n",
    "min_max(Z)"
   ]
  },
  {
   "cell_type": "markdown",
   "metadata": {},
   "source": [
    "#### 92. 使用 L2 范数对数据进行标准化处理"
   ]
  },
  {
   "cell_type": "markdown",
   "metadata": {},
   "source": [
    "L2 范数计算公式：\n",
    "$$L_2 = \\sqrt{x_1^2 + x_2^2 + \\ldots + x_i^2}$$"
   ]
  },
  {
   "cell_type": "code",
   "execution_count": 102,
   "metadata": {},
   "outputs": [
    {
     "name": "stdout",
     "output_type": "stream",
     "text": [
      "[[8 6 2 0 4]\n",
      " [3 1 4 0 0]\n",
      " [9 7 9 3 8]\n",
      " [6 1 2 7 1]\n",
      " [9 9 2 8 1]]\n"
     ]
    },
    {
     "data": {
      "text/plain": [
       "array([[ 0.73,  0.55,  0.18,  0.  ,  0.37],\n",
       "       [ 0.59,  0.2 ,  0.78,  0.  ,  0.  ],\n",
       "       [ 0.53,  0.42,  0.53,  0.18,  0.47],\n",
       "       [ 0.63,  0.1 ,  0.21,  0.73,  0.1 ],\n",
       "       [ 0.59,  0.59,  0.13,  0.53,  0.07]])"
      ]
     },
     "execution_count": 102,
     "metadata": {},
     "output_type": "execute_result"
    }
   ],
   "source": [
    "# 根据公式定义函数\n",
    "def l2_normalize(v, axis=-1, order=2):\n",
    "    l2 = np.linalg.norm(v, ord = order, axis=axis, keepdims=True)\n",
    "    l2[l2==0] = 1\n",
    "    return v/l2\n",
    "\n",
    "# 生成随机数据\n",
    "Z = np.random.randint(10, size=(5,5))\n",
    "print(Z)\n",
    "\n",
    "l2_normalize(Z)"
   ]
  },
  {
   "cell_type": "markdown",
   "metadata": {},
   "source": [
    "#### 93. 使用 NumPy 计算变量直接的相关性系数"
   ]
  },
  {
   "cell_type": "code",
   "execution_count": 103,
   "metadata": {},
   "outputs": [
    {
     "data": {
      "text/plain": [
       "array([[ 1.  , -0.06,  0.97],\n",
       "       [-0.06,  1.  , -0.01],\n",
       "       [ 0.97, -0.01,  1.  ]])"
      ]
     },
     "execution_count": 103,
     "metadata": {},
     "output_type": "execute_result"
    }
   ],
   "source": [
    "Z = np.array([\n",
    "    [1, 2, 1, 9, 10, 3, 2, 6, 7], # 特征 A\n",
    "    [2, 1, 8, 3, 7, 5, 10, 7, 2], # 特征 B\n",
    "    [2, 1, 1, 8, 9, 4, 3, 5, 7]]) # 特征 C\n",
    "\n",
    "np.corrcoef(Z)"
   ]
  },
  {
   "cell_type": "markdown",
   "metadata": {},
   "source": [
    "相关性系数取值从 `0-1` 变换，靠近 1 则代表相关性较强。结果如下所示，变量 A 与变量 A 直接的相关性系数为 `1`，因为是同一个变量；变量 A 与 变量 B 之间的相关性系数为 `-0.06`，说明几乎不相关。变量 A 与变量 C 之间的相关性系数为 `0.97`，说明相关性较强。\n",
    "```\n",
    "         [A]     [B]     [C]\n",
    "array([[ 1.  , -0.06,  0.97]   [A]\n",
    "       [-0.06,  1.  , -0.01],  [B]\n",
    "       [ 0.97, -0.01,  1.  ]]) [C]\n",
    "```"
   ]
  },
  {
   "cell_type": "markdown",
   "metadata": {},
   "source": [
    "#### 94. 使用 NumPy 计算矩阵的特征值和特征向量"
   ]
  },
  {
   "cell_type": "code",
   "execution_count": 104,
   "metadata": {},
   "outputs": [
    {
     "data": {
      "text/plain": [
       "(array([  1.61e+01,  -1.12e+00,  -1.30e-15]), matrix([[-0.23, -0.79,  0.41],\n",
       "         [-0.53, -0.09, -0.82],\n",
       "         [-0.82,  0.61,  0.41]]))"
      ]
     },
     "execution_count": 104,
     "metadata": {},
     "output_type": "execute_result"
    }
   ],
   "source": [
    "M = np.matrix([[1,2,3], [4,5,6], [7,8,9]])\n",
    "\n",
    "w, v = np.linalg.eig(M)\n",
    "\n",
    "# w 对应特征值，v 对应特征向量\n",
    "w, v"
   ]
  },
  {
   "cell_type": "markdown",
   "metadata": {},
   "source": [
    "我们可以通过 `P'AP=M` 公式反算，验证是否能得到原矩阵。"
   ]
  },
  {
   "cell_type": "code",
   "execution_count": 105,
   "metadata": {
    "scrolled": false
   },
   "outputs": [
    {
     "data": {
      "text/plain": [
       "matrix([[ 1.,  2.,  3.],\n",
       "        [ 4.,  5.,  6.],\n",
       "        [ 7.,  8.,  9.]])"
      ]
     },
     "execution_count": 105,
     "metadata": {},
     "output_type": "execute_result"
    }
   ],
   "source": [
    "v * np.diag(w) * np.linalg.inv(v)"
   ]
  },
  {
   "cell_type": "markdown",
   "metadata": {},
   "source": [
    "#### 95. 使用 NumPy 计算 Ndarray 两相邻元素差值"
   ]
  },
  {
   "cell_type": "code",
   "execution_count": 106,
   "metadata": {
    "scrolled": true
   },
   "outputs": [
    {
     "name": "stdout",
     "output_type": "stream",
     "text": [
      "[1 2 1 1 1 2 3 1 8 5]\n",
      "[ 1 -1  0  0  1  1 -2  7 -3]\n",
      "[ -2   1   0   1   0  -3   9 -10]\n",
      "[  3  -1   1  -1  -3  12 -19]\n"
     ]
    }
   ],
   "source": [
    "Z = np.random.randint(1,10,10)\n",
    "print(Z)\n",
    "\n",
    "# 计算 Z 两相邻元素差值\n",
    "print(np.diff(Z, n=1))\n",
    "\n",
    "# 重复计算 2 次\n",
    "print(np.diff(Z, n=2))\n",
    "\n",
    "# 重复计算 3 次\n",
    "print(np.diff(Z, n=3))"
   ]
  },
  {
   "cell_type": "markdown",
   "metadata": {},
   "source": [
    "#### 96. 使用 NumPy 将 Ndarray 相邻元素依次累加"
   ]
  },
  {
   "cell_type": "code",
   "execution_count": 107,
   "metadata": {},
   "outputs": [
    {
     "name": "stdout",
     "output_type": "stream",
     "text": [
      "[4 9 4 4 9 8 5 9 7 6]\n"
     ]
    },
    {
     "data": {
      "text/plain": [
       "array([ 4, 13, 17, 21, 30, 38, 43, 52, 59, 65])"
      ]
     },
     "execution_count": 107,
     "metadata": {},
     "output_type": "execute_result"
    }
   ],
   "source": [
    "Z = np.random.randint(1,10,10)\n",
    "print(Z)\n",
    "\n",
    "\"\"\"\n",
    "[第一个元素, 第一个元素 + 第二个元素, 第一个元素 + 第二个元素 + 第三个元素, ...]\n",
    "\"\"\"\n",
    "np.cumsum(Z)"
   ]
  },
  {
   "cell_type": "markdown",
   "metadata": {},
   "source": [
    "#### 97. 使用 NumPy 按列连接两个数组（要求列数一致）"
   ]
  },
  {
   "cell_type": "code",
   "execution_count": 108,
   "metadata": {},
   "outputs": [
    {
     "data": {
      "text/plain": [
       "array([[1, 4],\n",
       "       [2, 5],\n",
       "       [3, 6]])"
      ]
     },
     "execution_count": 108,
     "metadata": {},
     "output_type": "execute_result"
    }
   ],
   "source": [
    "M1 = np.array([1, 2, 3])\n",
    "M2 = np.array([4, 5, 6])\n",
    "\n",
    "np.c_[M1, M2]"
   ]
  },
  {
   "cell_type": "markdown",
   "metadata": {},
   "source": [
    "#### 98. 使用 NumPy 按行连接两个数组（要求行数一致）"
   ]
  },
  {
   "cell_type": "code",
   "execution_count": 109,
   "metadata": {},
   "outputs": [
    {
     "data": {
      "text/plain": [
       "array([1, 2, 3, 4, 5, 6])"
      ]
     },
     "execution_count": 109,
     "metadata": {},
     "output_type": "execute_result"
    }
   ],
   "source": [
    "M1 = np.array([1, 2, 3])\n",
    "M2 = np.array([4, 5, 6])\n",
    "\n",
    "np.r_[M1, M2]"
   ]
  },
  {
   "cell_type": "markdown",
   "metadata": {},
   "source": [
    "#### 99. 使用 NumPy 打印九九乘法表"
   ]
  },
  {
   "cell_type": "code",
   "execution_count": 110,
   "metadata": {
    "scrolled": false
   },
   "outputs": [
    {
     "data": {
      "text/plain": [
       "array([[  1.,   2.,   3.,   4.,   5.,   6.,   7.,   8.,   9.],\n",
       "       [  2.,   4.,   6.,   8.,  10.,  12.,  14.,  16.,  18.],\n",
       "       [  3.,   6.,   9.,  12.,  15.,  18.,  21.,  24.,  27.],\n",
       "       [  4.,   8.,  12.,  16.,  20.,  24.,  28.,  32.,  36.],\n",
       "       [  5.,  10.,  15.,  20.,  25.,  30.,  35.,  40.,  45.],\n",
       "       [  6.,  12.,  18.,  24.,  30.,  36.,  42.,  48.,  54.],\n",
       "       [  7.,  14.,  21.,  28.,  35.,  42.,  49.,  56.,  63.],\n",
       "       [  8.,  16.,  24.,  32.,  40.,  48.,  56.,  64.,  72.],\n",
       "       [  9.,  18.,  27.,  36.,  45.,  54.,  63.,  72.,  81.]])"
      ]
     },
     "execution_count": 110,
     "metadata": {},
     "output_type": "execute_result"
    }
   ],
   "source": [
    "np.fromfunction(lambda i, j: (i + 1) * (j + 1), (9, 9))"
   ]
  },
  {
   "cell_type": "markdown",
   "metadata": {},
   "source": [
    "#### 100. 使用 Numpy 将实验楼 LOGO 转换为 Ndarray 数组"
   ]
  },
  {
   "cell_type": "code",
   "execution_count": 111,
   "metadata": {},
   "outputs": [
    {
     "data": {
      "text/plain": [
       "array([[[255, 255, 255,   0],\n",
       "        [255, 255, 255,   0],\n",
       "        [255, 255, 255,   0],\n",
       "        ..., \n",
       "        [255, 255, 255,   0],\n",
       "        [255, 255, 255,   0],\n",
       "        [255, 255, 255,   0]],\n",
       "\n",
       "       [[255, 255, 255,   0],\n",
       "        [255, 255, 255,   0],\n",
       "        [255, 255, 255,   0],\n",
       "        ..., \n",
       "        [255, 255, 255,   0],\n",
       "        [255, 255, 255,   0],\n",
       "        [255, 255, 255,   0]],\n",
       "\n",
       "       [[255, 255, 255,   0],\n",
       "        [255, 255, 255,   0],\n",
       "        [255, 255, 255,   0],\n",
       "        ..., \n",
       "        [255, 255, 255,   0],\n",
       "        [255, 255, 255,   0],\n",
       "        [255, 255, 255,   0]],\n",
       "\n",
       "       ..., \n",
       "       [[255, 255, 255,   0],\n",
       "        [255, 255, 255,   0],\n",
       "        [255, 255, 255,   0],\n",
       "        ..., \n",
       "        [255, 255, 255,   0],\n",
       "        [255, 255, 255,   0],\n",
       "        [255, 255, 255,   0]],\n",
       "\n",
       "       [[255, 255, 255,   0],\n",
       "        [255, 255, 255,   0],\n",
       "        [255, 255, 255,   0],\n",
       "        ..., \n",
       "        [255, 255, 255,   0],\n",
       "        [255, 255, 255,   0],\n",
       "        [255, 255, 255,   0]],\n",
       "\n",
       "       [[255, 255, 255,   0],\n",
       "        [255, 255, 255,   0],\n",
       "        [255, 255, 255,   0],\n",
       "        ..., \n",
       "        [255, 255, 255,   0],\n",
       "        [255, 255, 255,   0],\n",
       "        [255, 255, 255,   0]]], dtype=uint8)"
      ]
     },
     "execution_count": 111,
     "metadata": {},
     "output_type": "execute_result"
    }
   ],
   "source": [
    "from io import BytesIO\n",
    "from PIL import Image\n",
    "import PIL, requests\n",
    "\n",
    "# 通过链接下载图像\n",
    "URL = 'https://static.shiyanlou.com/img/logo-black.png'\n",
    "response = requests.get(URL)\n",
    "\n",
    "# 将内容读取为图像\n",
    "I = Image.open(BytesIO(response.content))\n",
    "\n",
    "# 将图像转换为 Ndarray\n",
    "shiyanlou = np.asarray(I)\n",
    "shiyanlou"
   ]
  },
  {
   "cell_type": "code",
   "execution_count": 112,
   "metadata": {},
   "outputs": [
    {
     "data": {
      "image/png": "[encoded data removed]",
      "text/plain": [
       "<matplotlib.figure.Figure at 0x7f6d4c2d7198>"
      ]
     },
     "metadata": {},
     "output_type": "display_data"
    }
   ],
   "source": [
    "# 将转换后的 Ndarray 重新绘制成图像\n",
    "from matplotlib import pyplot as plt\n",
    "%matplotlib inline\n",
    "\n",
    "plt.imshow(shiyanlou)\n",
    "plt.show()"
   ]
  },
  {
   "cell_type": "markdown",
   "metadata": {},
   "source": [
    "##### <a id = \"3\">3. 实验总结</a>\n",
    "\n",
    "如果你亲自动手做完了上面的 100 道练习题，相信你已经对 Numpy 模块的熟练程度又提升了不少。我们推荐你定期回顾这些题目，相信你一定会熟能生巧。本次实验涉及的知识点主要有：\n",
    "- 创建数组\n",
    "- 数组运算\n",
    "- 数学函数\n",
    "- 数组切片和索引\n",
    "- 数组形状操作\n",
    "- 数组排序\n",
    "- 数组统计"
   ]
  }
 ],
 "metadata": {
  "kernelspec": {
   "display_name": "Python 3",
   "language": "python",
   "name": "python3"
  },
  "language_info": {
   "codemirror_mode": {
    "name": "ipython",
    "version": 3
   },
   "file_extension": ".py",
   "mimetype": "text/x-python",
   "name": "python",
   "nbconvert_exporter": "python",
   "pygments_lexer": "ipython3",
   "version": "3.6.3"
  }
 },
 "nbformat": 4,
 "nbformat_minor": 2
}
